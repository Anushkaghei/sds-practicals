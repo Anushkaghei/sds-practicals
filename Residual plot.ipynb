{
 "cells": [
  {
   "cell_type": "code",
   "execution_count": 2,
   "id": "c5884958",
   "metadata": {},
   "outputs": [],
   "source": [
    "# Build Linear regression model using Height from data.csv\n",
    "\n",
    "# Importing the libraries\n",
    "import matplotlib.pyplot as plt\n",
    "import statistics\n",
    "import pandas as pd\n",
    "\n",
    "\n",
    "# Importing the dataset\n",
    "data = pd.read_csv(\"height-weight.csv\")\n",
    "# Read 25 values from the dataset\n",
    "X = data['height'].iloc[:20]\n",
    "y = data['weight'].iloc[:20]"
   ]
  },
  {
   "cell_type": "code",
   "execution_count": 3,
   "id": "a5fd3930",
   "metadata": {},
   "outputs": [
    {
     "name": "stdout",
     "output_type": "stream",
     "text": [
      "Beta 1 is 4.128037498891865\n",
      "Beta 0 is -152.2337845346696\n",
      "R is 0.570458609310768\n"
     ]
    }
   ],
   "source": [
    "n = len(X)\n",
    "\n",
    "sum_of_xi_yi = 0\n",
    "# Find average of X values \n",
    "x_bar = statistics.mean(X)\n",
    "y_bar = statistics.mean(y)\n",
    "\n",
    "xi_squared = 0\n",
    "yi_squared = 0\n",
    "\n",
    "for i in range(n):\n",
    "    sum_of_xi_yi += X[i]*y[i]\n",
    "    xi_squared += X[i]*X[i]\n",
    "    yi_squared += y[i]*y[i]\n",
    "\n",
    "\n",
    "\n",
    "\n",
    "BETA_1 = (sum_of_xi_yi - n*x_bar*y_bar)/(xi_squared - n*x_bar*x_bar)\n",
    "BETA_0 = y_bar - BETA_1*x_bar\n",
    "r_value = (sum_of_xi_yi - n*x_bar*y_bar)/((xi_squared - n*x_bar*x_bar)*(yi_squared - n*y_bar*y_bar))**0.5\n",
    "\n",
    "\n",
    "print(f\"Beta 1 is {BETA_1}\")\n",
    "print(f\"Beta 0 is {BETA_0}\")\n",
    "print(f\"R is {r_value}\")"
   ]
  },
  {
   "cell_type": "code",
   "execution_count": 4,
   "id": "b8c30381",
   "metadata": {},
   "outputs": [
    {
     "data": {
      "image/png": "[encoded data removed]",
      "text/plain": [
       "<Figure size 432x288 with 1 Axes>"
      ]
     },
     "metadata": {
      "needs_background": "light"
     },
     "output_type": "display_data"
    }
   ],
   "source": [
    "plt.scatter(X,y)\n",
    "plt.title('Height vs Weight')\n",
    "plt.xlabel('Height')\n",
    "plt.ylabel('Weight')\n",
    "\n",
    "\n",
    "# Plot best fit line\n",
    "Y_hat = []\n",
    "for i in range(n):\n",
    "    Y_hat.append(BETA_0 + BETA_1*X[i])\n",
    "plt.plot(X,Y_hat)\n",
    "\n",
    "plt.show()\n"
   ]
  },
  {
   "cell_type": "code",
   "execution_count": 5,
   "id": "1cd4680d",
   "metadata": {},
   "outputs": [
    {
     "name": "stdout",
     "output_type": "stream",
     "text": [
      "Enter height: 20\n",
      "Predicted weight for height 20 is -69.67303455683232\n"
     ]
    }
   ],
   "source": [
    "# Predict weight for height\n",
    "x_inp = int(input(\"Enter height: \"))\n",
    "y_pred = BETA_0 + BETA_1*x_inp\n",
    "print(f\"Predicted weight for height {x_inp} is {y_pred}\")"
   ]
  },
  {
   "cell_type": "code",
   "execution_count": 6,
   "id": "e6c6537b",
   "metadata": {},
   "outputs": [
    {
     "data": {
      "image/png": "[encoded data removed]",
      "text/plain": [
       "<Figure size 432x288 with 1 Axes>"
      ]
     },
     "metadata": {
      "needs_background": "light"
     },
     "output_type": "display_data"
    }
   ],
   "source": [
    "# Create a Residual plot\n",
    "residual = []\n",
    "for i in range(n):\n",
    "    residual.append(y[i] - Y_hat[i])\n",
    "plt.scatter(X,residual)\n",
    "plt.title('Residual plot')\n",
    "plt.xlabel('Height')\n",
    "plt.ylabel('Residual')\n",
    "plt.axhline(y=0, color='r', linestyle='-')\n",
    "plt.show()"
   ]
  },
  {
   "cell_type": "code",
   "execution_count": 7,
   "id": "87cdc448",
   "metadata": {},
   "outputs": [
    {
     "name": "stdout",
     "output_type": "stream",
     "text": [
      "Standard Error of Estimate is 10.111376689994483\n"
     ]
    }
   ],
   "source": [
    "# Standard Error of Estimate\n",
    "std_error = 0\n",
    "for i in range(n):\n",
    "    std_error += (y[i] - Y_hat[i])**2\n",
    "std_error = (std_error/(n-2))**0.5\n",
    "print(f\"Standard Error of Estimate is {std_error}\")"
   ]
  },
  {
   "cell_type": "code",
   "execution_count": null,
   "id": "23aeaa11",
   "metadata": {},
   "outputs": [],
   "source": []
  }
 ],
 "metadata": {
  "kernelspec": {
   "display_name": "Python 3 (ipykernel)",
   "language": "python",
   "name": "python3"
  },
  "language_info": {
   "codemirror_mode": {
    "name": "ipython",
    "version": 3
   },
   "file_extension": ".py",
   "mimetype": "text/x-python",
   "name": "python",
   "nbconvert_exporter": "python",
   "pygments_lexer": "ipython3",
   "version": "3.9.12"
  }
 },
 "nbformat": 4,
 "nbformat_minor": 5
}
