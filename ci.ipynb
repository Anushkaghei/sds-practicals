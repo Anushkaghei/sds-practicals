{
 "cells": [
  {
   "cell_type": "code",
   "execution_count": 2,
   "id": "d9f3dc31",
   "metadata": {},
   "outputs": [
    {
     "name": "stdout",
     "output_type": "stream",
     "text": [
      "The confidence interval is ( 67.96954057569114 68.01668661790843 )\n"
     ]
    }
   ],
   "source": [
    "import matplotlib.pyplot as plt\n",
    "from math import sqrt\n",
    "from scipy.stats import norm\n",
    "import csv\n",
    "import pandas as pd\n",
    "import numpy as np\n",
    "import math\n",
    "\n",
    "df=pd.read_csv(\"C:/Users/CHARAN ALAPATI/PES1202101376/sds_prog/height-weight.csv\")\n",
    "alpha=0.05\n",
    "x_bar=np.mean(df['height'])\n",
    "x=df['height']\n",
    "n=len(df)\n",
    "s=x.std()\n",
    "alpha=0.05\n",
    "z=norm.ppf(alpha/2)\n",
    "UB=x_bar-(z*s/sqrt(n))\n",
    "LB=x_bar+(z*s/sqrt(n))\n",
    "print('The confidence interval is','(',LB,UB,')')"
   ]
  },
  {
   "cell_type": "code",
   "execution_count": null,
   "id": "b815abc9",
   "metadata": {},
   "outputs": [],
   "source": []
  }
 ],
 "metadata": {
  "kernelspec": {
   "display_name": "Python 3 (ipykernel)",
   "language": "python",
   "name": "python3"
  },
  "language_info": {
   "codemirror_mode": {
    "name": "ipython",
    "version": 3
   },
   "file_extension": ".py",
   "mimetype": "text/x-python",
   "name": "python",
   "nbconvert_exporter": "python",
   "pygments_lexer": "ipython3",
   "version": "3.9.13"
  }
 },
 "nbformat": 4,
 "nbformat_minor": 5
}
