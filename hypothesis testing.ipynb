{
 "cells": [
  {
   "cell_type": "code",
   "execution_count": 1,
   "metadata": {},
   "outputs": [
    {
     "name": "stdout",
     "output_type": "stream",
     "text": [
      "H0 : μ = 558\n",
      "H1 : μ != 558\n",
      "alpha value is : 0.05 \n",
      "\n",
      "actual z value : 1.95996398454\n",
      "hypothesis z value : 1.9424460431654675 \n",
      "\n",
      "Failed to reject NULL hypothesis\n"
     ]
    }
   ],
   "source": [
    "from scipy.stats import norm\n",
    "from math import sqrt\n",
    "def two_sided_hypo(sample_mean, pop_mean, std_dev, sample_size, alpha):\n",
    "    actual_z = abs(norm.ppf(alpha/2))\n",
    "    hypo_z = (sample_mean - pop_mean) / (std_dev/sqrt(sample_size))\n",
    "    print('actual z value :', actual_z)\n",
    "    print('hypothesis z value :', hypo_z, '\\n')\n",
    "    if hypo_z >= actual_z or hypo_z <= -(actual_z):\n",
    "        return True\n",
    "    else:\n",
    "        return False\n",
    "alpha = 0.05\n",
    "sample_mean = 585\n",
    "pop_mean = 558\n",
    "sample_size =  100\n",
    "std_dev = 139\n",
    "\n",
    "print('H0 : μ =', pop_mean)\n",
    "print('H1 : μ !=', pop_mean)\n",
    "print('alpha value is :', alpha, '\\n')\n",
    "\n",
    "reject = two_sided_hypo(sample_mean, pop_mean, std_dev, sample_size, alpha)\n",
    "if reject:\n",
    "    print('Reject NULL hypothesis')\n",
    "else:\n",
    "    print('Failed to reject NULL hypothesis')\n",
    "#variation with different parameters can be shown here"
   ]
  },
  {
   "cell_type": "code",
   "execution_count": 2,
   "metadata": {},
   "outputs": [
    {
     "name": "stdout",
     "output_type": "stream",
     "text": [
      "H0 : μ <= 100\n",
      "H1 : μ > 100\n",
      "alpha value is : 0.05 \n",
      "\n",
      "actual z value : 1.64485362695\n",
      "hypothesis z value : 3.2 \n",
      "\n",
      "Reject NULL hypothesis\n"
     ]
    }
   ],
   "source": [
    "#one sided hypothesis test(for smaller than in NULL hypothesis)\n",
    "def one_sided_hypo(sample_mean, pop_mean, std_dev, sample_size, alpha):\n",
    "    actual_z = abs(norm.ppf(alpha))\n",
    "    hypo_z = (sample_mean - pop_mean) / (std_dev/sqrt(sample_size))\n",
    "    print('actual z value :', actual_z)\n",
    "    print('hypothesis z value :', hypo_z, '\\n')\n",
    "    if hypo_z >= actual_z:\n",
    "        return True\n",
    "    else:\n",
    "        return False\n",
    "    \n",
    "alpha = 0.05\n",
    "sample_mean = 108\n",
    "pop_mean = 100\n",
    "sample_size =  36\n",
    "std_dev = 15\n",
    "\n",
    "print('H0 : μ <=', pop_mean)\n",
    "print('H1 : μ >', pop_mean)\n",
    "print('alpha value is :', alpha, '\\n')\n",
    "\n",
    "reject = one_sided_hypo(sample_mean, pop_mean, std_dev, sample_size, alpha)\n",
    "if reject:\n",
    "    print('Reject NULL hypothesis')\n",
    "else:\n",
    "    print('Failed to reject NULL hypothesis')\n",
    "#variation with different parameters can be shown here"
   ]
  }
 ],
 "metadata": {
  "kernelspec": {
   "display_name": "Python 3",
   "language": "python",
   "name": "python3"
  },
  "language_info": {
   "codemirror_mode": {
    "name": "ipython",
    "version": 3
   },
   "file_extension": ".py",
   "mimetype": "text/x-python",
   "name": "python",
   "nbconvert_exporter": "python",
   "pygments_lexer": "ipython3",
   "version": "3.7.6"
  }
 },
 "nbformat": 4,
 "nbformat_minor": 2
}
