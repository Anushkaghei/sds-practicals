{
 "cells": [
  {
   "cell_type": "code",
   "execution_count": 1,
   "id": "03b967ec",
   "metadata": {},
   "outputs": [],
   "source": [
    "import pandas as pd\n",
    "import matplotlib.pyplot as plt "
   ]
  },
  {
   "cell_type": "markdown",
   "id": "4631ee57",
   "metadata": {},
   "source": [
    "matplotlib.pyplot -- for drawing graphs and charts "
   ]
  },
  {
   "cell_type": "code",
   "execution_count": 15,
   "id": "c19dd30f",
   "metadata": {},
   "outputs": [
    {
     "data": {
      "text/html": [
       "<div>\n",
       "<style scoped>\n",
       "    .dataframe tbody tr th:only-of-type {\n",
       "        vertical-align: middle;\n",
       "    }\n",
       "\n",
       "    .dataframe tbody tr th {\n",
       "        vertical-align: top;\n",
       "    }\n",
       "\n",
       "    .dataframe thead th {\n",
       "        text-align: right;\n",
       "    }\n",
       "</style>\n",
       "<table border=\"1\" class=\"dataframe\">\n",
       "  <thead>\n",
       "    <tr style=\"text-align: right;\">\n",
       "      <th></th>\n",
       "      <th>Years of Exp</th>\n",
       "      <th>Salary</th>\n",
       "      <th>Day</th>\n",
       "      <th>No.of Workers</th>\n",
       "    </tr>\n",
       "  </thead>\n",
       "  <tbody>\n",
       "    <tr>\n",
       "      <th>0</th>\n",
       "      <td>1.1</td>\n",
       "      <td>39343</td>\n",
       "      <td>Monday</td>\n",
       "      <td>22</td>\n",
       "    </tr>\n",
       "    <tr>\n",
       "      <th>1</th>\n",
       "      <td>1.5</td>\n",
       "      <td>40000</td>\n",
       "      <td>Tuesday</td>\n",
       "      <td>43</td>\n",
       "    </tr>\n",
       "    <tr>\n",
       "      <th>2</th>\n",
       "      <td>1.6</td>\n",
       "      <td>37731</td>\n",
       "      <td>Wednesday</td>\n",
       "      <td>30</td>\n",
       "    </tr>\n",
       "    <tr>\n",
       "      <th>3</th>\n",
       "      <td>2.0</td>\n",
       "      <td>43525</td>\n",
       "      <td>Thursday</td>\n",
       "      <td>15</td>\n",
       "    </tr>\n",
       "    <tr>\n",
       "      <th>4</th>\n",
       "      <td>2.2</td>\n",
       "      <td>48000</td>\n",
       "      <td>Friday</td>\n",
       "      <td>55</td>\n",
       "    </tr>\n",
       "  </tbody>\n",
       "</table>\n",
       "</div>"
      ],
      "text/plain": [
       "   Years of Exp  Salary        Day  No.of Workers\n",
       "0           1.1   39343     Monday             22\n",
       "1           1.5   40000    Tuesday             43\n",
       "2           1.6   37731  Wednesday             30\n",
       "3           2.0   43525   Thursday             15\n",
       "4           2.2   48000     Friday             55"
      ]
     },
     "execution_count": 15,
     "metadata": {},
     "output_type": "execute_result"
    }
   ],
   "source": [
    "data=pd.read_csv('D:/Book1.csv')\n",
    "data.head()"
   ]
  },
  {
   "cell_type": "markdown",
   "id": "d5f038cb",
   "metadata": {},
   "source": [
    "data.head()--gets the "
   ]
  },
  {
   "cell_type": "code",
   "execution_count": 16,
   "id": "f1dfde4f",
   "metadata": {},
   "outputs": [],
   "source": [
    "experience=data['Years of Exp']\n",
    "salary=data['Salary']\n",
    "days=data['Day']\n",
    "no_of_workers=data['No.of Workers']"
   ]
  },
  {
   "cell_type": "markdown",
   "id": "9217072a",
   "metadata": {},
   "source": [
    "bar chart is applicable for  "
   ]
  },
  {
   "cell_type": "code",
   "execution_count": 17,
   "id": "bf9d255f",
   "metadata": {},
   "outputs": [
    {
     "data": {
      "image/png": "[encoded data removed]",
      "text/plain": [
       "<Figure size 432x288 with 1 Axes>"
      ]
     },
     "metadata": {
      "needs_background": "light"
     },
     "output_type": "display_data"
    }
   ],
   "source": [
    "plt.bar(days,no_of_workers)\n",
    "plt.show()"
   ]
  },
  {
   "cell_type": "code",
   "execution_count": 18,
   "id": "b3f657cc",
   "metadata": {},
   "outputs": [
    {
     "data": {
      "image/png": "[encoded data removed]",
      "text/plain": [
       "<Figure size 432x288 with 1 Axes>"
      ]
     },
     "metadata": {
      "needs_background": "light"
     },
     "output_type": "display_data"
    }
   ],
   "source": [
    "plt.bar(days,no_of_workers)\n",
    "plt.title('No. of Workers visiting Details Day wise')\n",
    "plt.xlabel('Days of Week')\n",
    "plt.ylabel('# Workers')\n",
    "plt.show()"
   ]
  },
  {
   "cell_type": "markdown",
   "id": "ac7e70b3",
   "metadata": {},
   "source": [
    "beautify the bar graph"
   ]
  },
  {
   "cell_type": "code",
   "execution_count": 19,
   "id": "0f237c07",
   "metadata": {},
   "outputs": [
    {
     "data": {
      "image/png": "[encoded data removed]",
      "text/plain": [
       "<Figure size 432x288 with 1 Axes>"
      ]
     },
     "metadata": {
      "needs_background": "light"
     },
     "output_type": "display_data"
    }
   ],
   "source": [
    "plt.barh(days,no_of_workers)\n",
    "plt.show()"
   ]
  },
  {
   "cell_type": "markdown",
   "id": "76341dff",
   "metadata": {},
   "source": [
    "bar h is bar chart only , bars is displayed horizontally"
   ]
  },
  {
   "cell_type": "code",
   "execution_count": 20,
   "id": "87ca42d9",
   "metadata": {},
   "outputs": [
    {
     "data": {
      "image/png": "[encoded data removed]",
      "text/plain": [
       "<Figure size 432x288 with 1 Axes>"
      ]
     },
     "metadata": {
      "needs_background": "light"
     },
     "output_type": "display_data"
    }
   ],
   "source": [
    "plt.hist(salary,bins=5)\n",
    "plt.show()"
   ]
  },
  {
   "cell_type": "code",
   "execution_count": 21,
   "id": "a36d9be3",
   "metadata": {},
   "outputs": [
    {
     "data": {
      "image/png": "[encoded data removed]",
      "text/plain": [
       "<Figure size 432x288 with 1 Axes>"
      ]
     },
     "metadata": {
      "needs_background": "light"
     },
     "output_type": "display_data"
    }
   ],
   "source": [
    "plt.hist(salary)\n",
    "plt.show()"
   ]
  },
  {
   "cell_type": "markdown",
   "id": "01cbf6fc",
   "metadata": {},
   "source": [
    "is bins is removed , it is a bar chart \n",
    "\n",
    "normally value taken is 5 bits , not more than 20 bits "
   ]
  },
  {
   "cell_type": "code",
   "execution_count": 22,
   "id": "13dfb44f",
   "metadata": {},
   "outputs": [
    {
     "data": {
      "image/png": "[encoded data removed]",
      "text/plain": [
       "<Figure size 432x288 with 1 Axes>"
      ]
     },
     "metadata": {
      "needs_background": "light"
     },
     "output_type": "display_data"
    }
   ],
   "source": [
    "plt.scatter(experience,salary)\n",
    "plt.show()"
   ]
  },
  {
   "cell_type": "markdown",
   "id": "d4cd91a7",
   "metadata": {},
   "source": [
    "scatter plot requires two variables -- experience and salary\n",
    "\n",
    "x axis -- independent variable \n",
    "y axis -- dependent variable"
   ]
  },
  {
   "cell_type": "code",
   "execution_count": 23,
   "id": "fe30f4df",
   "metadata": {},
   "outputs": [
    {
     "data": {
      "image/png": "[encoded data removed]",
      "text/plain": [
       "<Figure size 432x288 with 1 Axes>"
      ]
     },
     "metadata": {
      "needs_background": "light"
     },
     "output_type": "display_data"
    }
   ],
   "source": [
    "plt.boxplot(salary)\n",
    "plt.show()"
   ]
  },
  {
   "cell_type": "markdown",
   "id": "e86a2e43",
   "metadata": {},
   "source": [
    "boxxplott"
   ]
  },
  {
   "cell_type": "code",
   "execution_count": null,
   "id": "a9c42da3",
   "metadata": {},
   "outputs": [],
   "source": [
    "explore shit on heatmap \n",
    "\n",
    "when to use heatmap \n",
    "create own dataset \n",
    "plot heatmap \n",
    "write 5 insights about your heatmap\n",
    "\n",
    "submission by wednesday"
   ]
  },
  {
   "cell_type": "code",
   "execution_count": null,
   "id": "e057cb09",
   "metadata": {},
   "outputs": [],
   "source": []
  },
  {
   "cell_type": "code",
   "execution_count": null,
   "id": "f957765c",
   "metadata": {},
   "outputs": [],
   "source": []
  },
  {
   "cell_type": "code",
   "execution_count": null,
   "id": "ec378651",
   "metadata": {},
   "outputs": [],
   "source": []
  },
  {
   "cell_type": "code",
   "execution_count": null,
   "id": "b0025d3f",
   "metadata": {},
   "outputs": [],
   "source": []
  },
  {
   "cell_type": "code",
   "execution_count": null,
   "id": "bc2f072d",
   "metadata": {},
   "outputs": [],
   "source": []
  },
  {
   "cell_type": "code",
   "execution_count": null,
   "id": "b24854af",
   "metadata": {},
   "outputs": [],
   "source": []
  },
  {
   "cell_type": "code",
   "execution_count": null,
   "id": "664f2fc3",
   "metadata": {},
   "outputs": [],
   "source": []
  }
 ],
 "metadata": {
  "kernelspec": {
   "display_name": "Python 3 (ipykernel)",
   "language": "python",
   "name": "python3"
  },
  "language_info": {
   "codemirror_mode": {
    "name": "ipython",
    "version": 3
   },
   "file_extension": ".py",
   "mimetype": "text/x-python",
   "name": "python",
   "nbconvert_exporter": "python",
   "pygments_lexer": "ipython3",
   "version": "3.9.12"
  }
 },
 "nbformat": 4,
 "nbformat_minor": 5
}
