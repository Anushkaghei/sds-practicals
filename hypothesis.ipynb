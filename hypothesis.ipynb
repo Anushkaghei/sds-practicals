{
 "cells": [
  {
   "cell_type": "code",
   "execution_count": 4,
   "id": "cf978545",
   "metadata": {},
   "outputs": [
    {
     "name": "stdout",
     "output_type": "stream",
     "text": [
      "p =  0.13666083914614907\n"
     ]
    }
   ],
   "source": [
    "import matplotlib.pyplot as plt\n",
    "\n",
    "\n",
    "from math import sqrt\n",
    "from scipy.stats import norm\n",
    "n=30\n",
    "sigma=10\n",
    "alpha=0.05\n",
    "x_bar=38\n",
    "#H0:mu>=40\n",
    "#Ha:mu<40  left tailed test\n",
    "mu0=40\n",
    "se=sigma/sqrt(n)\n",
    "z=(x_bar-mu0)/se\n",
    "p=norm.cdf(z)\n",
    "print('p = ',p)"
   ]
  },
  {
   "cell_type": "code",
   "execution_count": 3,
   "id": "366aa8d7",
   "metadata": {},
   "outputs": [
    {
     "name": "stdout",
     "output_type": "stream",
     "text": [
      "Cannot reject H0\n"
     ]
    }
   ],
   "source": [
    "if(p<0.05):\n",
    "    print('reject H0')\n",
    "else:\n",
    "    print('Cannot reject H0')"
   ]
  },
  {
   "cell_type": "code",
   "execution_count": 5,
   "id": "cb68a5c2",
   "metadata": {},
   "outputs": [
    {
     "name": "stdout",
     "output_type": "stream",
     "text": [
      "p =  0.863339160853851\n"
     ]
    }
   ],
   "source": [
    "import matplotlib.pyplot as plt\n",
    "\n",
    "\n",
    "from math import sqrt\n",
    "from scipy.stats import norm\n",
    "n=30\n",
    "sigma=10\n",
    "alpha=0.05\n",
    "x_bar=38\n",
    "#H0:mu<=40\n",
    "#Ha:mu>40  right tailed test\n",
    "mu0=40\n",
    "se=sigma/sqrt(n)\n",
    "z=(x_bar-mu0)/se\n",
    "p=(1-norm.cdf(z))\n",
    "print('p = ',p)"
   ]
  },
  {
   "cell_type": "code",
   "execution_count": 6,
   "id": "97c59565",
   "metadata": {},
   "outputs": [
    {
     "name": "stdout",
     "output_type": "stream",
     "text": [
      "Cannot reject H0\n"
     ]
    }
   ],
   "source": [
    "if(p<0.05):\n",
    "    print('reject H0')\n",
    "else:\n",
    "    print('Cannot reject H0')"
   ]
  },
  {
   "cell_type": "code",
   "execution_count": 9,
   "id": "96e19585",
   "metadata": {},
   "outputs": [
    {
     "name": "stdout",
     "output_type": "stream",
     "text": [
      "p =  1.726678321707702\n"
     ]
    }
   ],
   "source": [
    "import matplotlib.pyplot as plt\n",
    "\n",
    "\n",
    "from math import sqrt\n",
    "from scipy.stats import norm\n",
    "n=30\n",
    "sigma=10\n",
    "alpha=0.05\n",
    "x_bar=38\n",
    "#H0:mu=40\n",
    "#Ha:mu!=40  two tailed tailed test\n",
    "mu0=40\n",
    "se=sigma/sqrt(n)\n",
    "z=(x_bar-mu0)/se\n",
    "p=(norm.cdf(-z))+(1-norm.cdf(z))\n",
    "print('p = ',p)"
   ]
  },
  {
   "cell_type": "code",
   "execution_count": 10,
   "id": "cd3c56a1",
   "metadata": {},
   "outputs": [
    {
     "name": "stdout",
     "output_type": "stream",
     "text": [
      "Cannot reject H0\n"
     ]
    }
   ],
   "source": [
    "if(p<0.05):\n",
    "    print('reject H0')\n",
    "else:\n",
    "    print('Cannot reject H0')"
   ]
  },
  {
   "cell_type": "code",
   "execution_count": null,
   "id": "ac5585d7",
   "metadata": {},
   "outputs": [],
   "source": []
  }
 ],
 "metadata": {
  "kernelspec": {
   "display_name": "Python 3 (ipykernel)",
   "language": "python",
   "name": "python3"
  },
  "language_info": {
   "codemirror_mode": {
    "name": "ipython",
    "version": 3
   },
   "file_extension": ".py",
   "mimetype": "text/x-python",
   "name": "python",
   "nbconvert_exporter": "python",
   "pygments_lexer": "ipython3",
   "version": "3.9.13"
  },
  "vscode": {
   "interpreter": {
    "hash": "df44e4d744a749fcd87a50f96b349a44834d6019aa7c6056cb9e877abcf9c8d1"
   }
  }
 },
 "nbformat": 4,
 "nbformat_minor": 5
}
